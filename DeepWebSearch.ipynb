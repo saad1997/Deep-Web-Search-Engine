{
 "cells": [
  {
   "cell_type": "code",
   "execution_count": 32,
   "metadata": {
    "scrolled": true
   },
   "outputs": [],
   "source": [
    "from selenium import webdriver    \n",
    "query = \"\"\n",
    "profile = webdriver.FirefoxProfile()\n",
    "# set FF preference to socks proxy\n",
    "profile.set_preference(\"network.proxy.type\", 1)\n",
    "profile.set_preference(\"network.proxy.socks\", \"127.0.0.1\")\n",
    "profile.set_preference(\"network.proxy.socks_port\", 9050)\n",
    "profile.set_preference(\"network.proxy.socks_version\", 5)\n",
    "profile.set_preference(\"network.proxy.socks_remote_dns\", True)\n",
    "profile.set_preference(\"browser.privatebrowsing.autostart\", True)\n",
    "profile.update_preferences()\n",
    "\n",
    "browser = webdriver.Firefox(firefox_profile=profile)\n",
    "browser.get(\"http://xmh57jrzrnw6insl.onion/\")\n",
    "search_text = browser.find_element_by_name('q').send_keys(query.replace(\" \",\"+\"))\n",
    "search = browser.find_element_by_name(\"cmd\").click()\n",
    "\n",
    "browser1 = webdriver.Firefox(firefox_profile=profile)\n",
    "url1 = \"http://galaxy3bhpzxecbywoa2j4tg43muepnhfalars4cce3fcx46qlc6t3id.onion/search?q=\"+ query.replace(\" \",\"+\") +\"&search_type=all\"\n",
    "browser1.get(url1)\n",
    "\n",
    "browser2 = webdriver.Firefox(firefox_profile=profile)\n",
    "url2 = \"http://dreadytofatroptsdj6io7l3xptbet6onoyno2yv7jicoxknyazubrad.onion/search/?p=2&q=\" + query\n",
    "browser2.get(url2)"
   ]
  },
  {
   "cell_type": "code",
   "execution_count": null,
   "metadata": {},
   "outputs": [],
   "source": []
  }
 ],
 "metadata": {
  "kernelspec": {
   "display_name": "Python 3 (ipykernel)",
   "language": "python",
   "name": "python3"
  },
  "language_info": {
   "codemirror_mode": {
    "name": "ipython",
    "version": 3
   },
   "file_extension": ".py",
   "mimetype": "text/x-python",
   "name": "python",
   "nbconvert_exporter": "python",
   "pygments_lexer": "ipython3",
   "version": "3.7.6"
  }
 },
 "nbformat": 4,
 "nbformat_minor": 2
}
